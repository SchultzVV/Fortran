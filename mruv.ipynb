{
 "cells": [
  {
   "attachments": {},
   "cell_type": "markdown",
   "metadata": {},
   "source": [
    "# Movimento Retilineo Uniformemente Variado (MRUV)\n",
    "\n",
    "É o movimento no qual a velocidade varia em relação ao tempo de modo uniforme, ou seja, possui uma aceleração não nula e constante. Por exemplo, se temos uma aceleração de$$ a(t) = 50 m/s^2 $$para qualquer valor de t, a velocidade é a mesma $50 m/s$. \n",
    "\n",
    "Integrando essa equação duas vezes obtemos:\n",
    "$$ \\begin{equation*}a = 50 m/s^2\\end{equation*} $$\n",
    "$$ \\begin{equation*}v(t) = v_0 + (50 m/s^2) t \\end{equation*} $$ \n",
    "$$ \\begin{equation*}s(t) = s_0 + v_0t + (50 m/s^2) t^2/2 \\end{equation*} $$\n",
    "\n",
    "Na segunda equação podemos utilizar somente valores de velocidades, enquanto que na terceira podemos utilizar valores de posições e velocidades para realizar cálculos.\n",
    "\n",
    "Conhecer essas equações consiste em, a partir de uma aceleração não nula $ a = 5 \\frac{m}{s^2}$, ser capaz de calcular posições, velocidades e tempos iniciais e finais."
   ]
  },
  {
   "attachments": {},
   "cell_type": "markdown",
   "metadata": {},
   "source": [
    "[Leitura adicional](https://webfisica.com/laravel/public/fisica/curso-de-fisica-basica/aula/1-5)"
   ]
  },
  {
   "attachments": {},
   "cell_type": "markdown",
   "metadata": {},
   "source": [
    "__Exercício:__\n",
    "\n",
    "Um carro que trafegava a __108 km/h__ ficou sem freio em uma rua horizontal. O motorista percebeu e resolveu parar o veículo. Sabendo que ele levou __30 segundos__ para parar totalmente utilizando apenas o freio de mão:\n",
    "\n",
    "* (1) Implemente a equação da __velocidade__ e calcule a __desaceleração__ proporcionada pelo freio de mão.\n",
    "* (2) Implemente a equação da __posição__ e calcule a __distância percorrida__ até parar.\n",
    "\n",
    "(Dica): Utilize o próprio Fortran para realizar a mudança de km/h para m/s.\n",
    "\n",
    "* __Desafio:__ Tente gerar um programa que sirva para responder ambas as questões."
   ]
  },
  {
   "attachments": {},
   "cell_type": "markdown",
   "metadata": {},
   "source": [
    "##### resposta (1)"
   ]
  },
  {
   "cell_type": "code",
   "execution_count": null,
   "metadata": {},
   "outputs": [],
   "source": [
    "program mruv\n",
    "implicit none\n",
    "real:: v0, v1, t, a\n",
    "\n",
    "write(*,*) \"Inserir valores v0(km/h) v1(m/s) t(s) :\"\n",
    "read(*,*) v0, v1, t\n",
    "! Partindo dessa equação v1 = v0 + a*t\n",
    "! isolamos a para ser calculado.\n",
    "\n",
    "!v = 0\n",
    "v0 = 108/3.6\n",
    "a = (v1-v0)/t\n",
    "write(*,*) \" A aceleração é a =\", a, \"m/s\"\n",
    "\n",
    "end program"
   ]
  },
  {
   "attachments": {},
   "cell_type": "markdown",
   "metadata": {},
   "source": [
    "##### resposta (2)"
   ]
  },
  {
   "cell_type": "code",
   "execution_count": null,
   "metadata": {},
   "outputs": [],
   "source": [
    "program mruv\n",
    "implicit none\n",
    "real:: s0, s, v0, t, a\n",
    "\n",
    "write(*,*) \"Inserir valores s0(m) v0(km/h) t(s) a(m/s**2):\"\n",
    "read(*,*) s0, v0, t, a\n",
    "v0 = 108/3.6\n",
    "s = s0+v0*t+(a*t**2)/2\n",
    "\n",
    "write(*,*) \" o carro percorreu por s =\", s, \"(m) até parar.\"\n",
    "\n",
    "end program"
   ]
  },
  {
   "attachments": {},
   "cell_type": "markdown",
   "metadata": {},
   "source": [
    "##### resposta desafio"
   ]
  },
  {
   "cell_type": "code",
   "execution_count": null,
   "metadata": {},
   "outputs": [],
   "source": [
    "program mruv\n",
    "implicit none\n",
    "real:: s0, s, v1, v0, t, a\n",
    "Character(len = 5) :: tipo, modo1, modo2, modo3\n",
    "\n",
    "write(*,*) \" Escolha a grandeza a ser calculada: \"\n",
    "write(*,*) \" digite v para equação da velocidade, \"\n",
    "write(*,*) \" Ou digite s para equação da posição \"\n",
    "\n",
    "modo1 = \"s\"\n",
    "modo2 = \"v\"\n",
    "read(*,*) tipo\n",
    "\n",
    "if (tipo == modo1) then\n",
    "        write(*,*) \"Inserir valores s0(m) v0(km/h) t(s) a(m/s^2):\"\n",
    "        read(*,*) s0, v0, t, a\n",
    "        v0 = 108/3.6\n",
    "        s = s0+v0*t+(a*t**2)/2\n",
    "        \n",
    "        write(*,*) \" o carro percorreu por s =\", s, \"(m) até parar.\"\n",
    "\n",
    "\n",
    "else if (tipo == modo2) then\n",
    "        write(*,*) \"Inserir valores v0(km/h) v1(m/s) t(s) :\"\n",
    "        read(*,*) v0, v1, t\n",
    "        ! Partindo dessa equação v1 = v0 + a*t\n",
    "        ! isolamos a para ser calculado.\n",
    "        \n",
    "        !v = 0\n",
    "        v0 = 108/3.6\n",
    "        a = (v1-v0)/t\n",
    "\n",
    "        write(*,*) \" A aceleração é a =\", a, \"m/s**2\"\n",
    "\n",
    "end if\n",
    "end program"
   ]
  }
 ],
 "metadata": {
  "kernelspec": {
   "display_name": "Python 3",
   "language": "python",
   "name": "python3"
  },
  "language_info": {
   "name": "python",
   "version": "3.10.6 (main, Nov 14 2022, 16:10:14) [GCC 11.3.0]"
  },
  "orig_nbformat": 4,
  "vscode": {
   "interpreter": {
    "hash": "916dbcbb3f70747c44a77c7bcd40155683ae19c65e1c03b4aa3499c5328201f1"
   }
  }
 },
 "nbformat": 4,
 "nbformat_minor": 2
}
